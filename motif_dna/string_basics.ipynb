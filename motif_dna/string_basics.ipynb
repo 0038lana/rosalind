{
 "cells": [
  {
   "cell_type": "markdown",
   "id": "317907c2",
   "metadata": {},
   "source": [
    "# Python String Basics\n",
    "1. What is string?"
   ]
  },
  {
   "cell_type": "code",
   "execution_count": 1,
   "id": "6a32efec",
   "metadata": {},
   "outputs": [
    {
     "data": {
      "text/plain": [
       "'This is a string in Python'"
      ]
     },
     "execution_count": 1,
     "metadata": {},
     "output_type": "execute_result"
    }
   ],
   "source": [
    "# valid string literals\n",
    "'This is a string in Python' # string in single quotes\n",
    "\"This is a string in Python\" # string in double quotes\n",
    "'''This is a string in Python''' # string in triple quotes\n",
    "\"\"\"This is a string in Python\"\"\" # string in triple double-quotes"
   ]
  },
  {
   "cell_type": "code",
   "execution_count": 2,
   "id": "49e93aea",
   "metadata": {},
   "outputs": [],
   "source": [
    "# Creating a string - A string literal can be assigned to a variable, as shown below.\n",
    "string = \"My name is Lana!\""
   ]
  },
  {
   "cell_type": "markdown",
   "id": "28a27fa7",
   "metadata": {},
   "source": [
    "### String manipulation"
   ]
  },
  {
   "cell_type": "code",
   "execution_count": 2,
   "id": "c4326dbf",
   "metadata": {},
   "outputs": [
    {
     "name": "stdout",
     "output_type": "stream",
     "text": [
      "My name is Lana!\n"
     ]
    }
   ],
   "source": [
    "# Printing a string\n",
    "print(string)"
   ]
  },
  {
   "cell_type": "code",
   "execution_count": 3,
   "id": "fce3cdd5",
   "metadata": {},
   "outputs": [
    {
     "data": {
      "text/plain": [
       "'M'"
      ]
     },
     "execution_count": 3,
     "metadata": {},
     "output_type": "execute_result"
    }
   ],
   "source": [
    "# Accessing elements of string with []\n",
    "# note: Python uses 0-based indexing, meaning first position is actually not 1 but 0\n",
    "string[0]"
   ]
  },
  {
   "cell_type": "code",
   "execution_count": 4,
   "id": "3b4b8f8d",
   "metadata": {},
   "outputs": [
    {
     "data": {
      "text/plain": [
       "'!'"
      ]
     },
     "execution_count": 4,
     "metadata": {},
     "output_type": "execute_result"
    }
   ],
   "source": [
    "# accessing elements \"from the back\" - (from right to left) with negative referencing\n",
    "# -1 for last element in string, -2 for second to last, etc...\n",
    "string[-1]"
   ]
  },
  {
   "cell_type": "markdown",
   "id": "82845fb6",
   "metadata": {},
   "source": [
    "### String indexing:\n",
    "| M | y | | n | a | m | e| | i | s |  | L | a | n | a | ! |\n",
    "| - | - | - | - | - | - | -| - | - | - | - | - | -|- | - | - |\n",
    "| 0 | 1 | 2 | 3 | 4 | 5 | 6 | 7 | 8 | 9 | 10 | 11 | 12 | 13 | 14 | 15 |\n",
    "| -16| -15 | -14 | -13 | -12 | -11 | -10 | -9 | -8 | -7 | -6 | -5 | -4 | -3 | -2 | -1 |"
   ]
  },
  {
   "cell_type": "code",
   "execution_count": 5,
   "id": "ec9a4e74",
   "metadata": {},
   "outputs": [
    {
     "data": {
      "text/plain": [
       "'Lana'"
      ]
     },
     "execution_count": 5,
     "metadata": {},
     "output_type": "execute_result"
    }
   ],
   "source": [
    "# String slicing\n",
    "# [j:k] - starting from position j and until k(not included)\n",
    "string[11:15] # -> this won't give us 15th element !"
   ]
  },
  {
   "cell_type": "code",
   "execution_count": 6,
   "id": "0856f8fa",
   "metadata": {},
   "outputs": [
    {
     "data": {
      "text/plain": [
       "'nam'"
      ]
     },
     "execution_count": 6,
     "metadata": {},
     "output_type": "execute_result"
    }
   ],
   "source": [
    "string[3:-10]"
   ]
  },
  {
   "cell_type": "code",
   "execution_count": 7,
   "id": "86663e1a",
   "metadata": {},
   "outputs": [
    {
     "data": {
      "text/plain": [
       "True"
      ]
     },
     "execution_count": 7,
     "metadata": {},
     "output_type": "execute_result"
    }
   ],
   "source": [
    "# Given two strings s and t, t is a substring of s if t is contained as a contiguous collection of symbols in s\n",
    "'Lana' in string"
   ]
  },
  {
   "cell_type": "markdown",
   "id": "b4bd8ac9",
   "metadata": {},
   "source": [
    "### String built in functions"
   ]
  },
  {
   "cell_type": "code",
   "execution_count": 8,
   "id": "f82ae944",
   "metadata": {},
   "outputs": [
    {
     "data": {
      "text/plain": [
       "16"
      ]
     },
     "execution_count": 8,
     "metadata": {},
     "output_type": "execute_result"
    }
   ],
   "source": [
    "# length of string\n",
    "len(string)"
   ]
  },
  {
   "cell_type": "code",
   "execution_count": 9,
   "id": "288592b0",
   "metadata": {},
   "outputs": [
    {
     "data": {
      "text/plain": [
       "'my name is lana!'"
      ]
     },
     "execution_count": 9,
     "metadata": {},
     "output_type": "execute_result"
    }
   ],
   "source": [
    "# lower/upper case\n",
    "string.lower()"
   ]
  },
  {
   "cell_type": "code",
   "execution_count": 10,
   "id": "09b19d0c",
   "metadata": {},
   "outputs": [
    {
     "data": {
      "text/plain": [
       "'MY NAME IS LANA!'"
      ]
     },
     "execution_count": 10,
     "metadata": {},
     "output_type": "execute_result"
    }
   ],
   "source": [
    "string.upper()"
   ]
  },
  {
   "cell_type": "code",
   "execution_count": 11,
   "id": "0e3d6615",
   "metadata": {},
   "outputs": [],
   "source": [
    "# startswith/endswith"
   ]
  },
  {
   "cell_type": "code",
   "execution_count": 12,
   "id": "5f3faa97",
   "metadata": {},
   "outputs": [
    {
     "data": {
      "text/plain": [
       "True"
      ]
     },
     "execution_count": 12,
     "metadata": {},
     "output_type": "execute_result"
    }
   ],
   "source": [
    "string.startswith(\"My\")"
   ]
  },
  {
   "cell_type": "code",
   "execution_count": 13,
   "id": "000a9af1",
   "metadata": {},
   "outputs": [
    {
     "data": {
      "text/plain": [
       "False"
      ]
     },
     "execution_count": 13,
     "metadata": {},
     "output_type": "execute_result"
    }
   ],
   "source": [
    "string.endswith(\"Luna!\")"
   ]
  },
  {
   "cell_type": "code",
   "execution_count": 14,
   "id": "d98bf5c2",
   "metadata": {},
   "outputs": [
    {
     "data": {
      "text/plain": [
       "'My name is Luna!'"
      ]
     },
     "execution_count": 14,
     "metadata": {},
     "output_type": "execute_result"
    }
   ],
   "source": [
    "# replace\n",
    "string.replace(\"Lana\", \"Luna\")"
   ]
  },
  {
   "cell_type": "code",
   "execution_count": 15,
   "id": "b421a612",
   "metadata": {},
   "outputs": [
    {
     "data": {
      "text/plain": [
       "11"
      ]
     },
     "execution_count": 15,
     "metadata": {},
     "output_type": "execute_result"
    }
   ],
   "source": [
    "# find\n",
    "string.find(\"Lana\")"
   ]
  },
  {
   "cell_type": "markdown",
   "id": "81bf2261",
   "metadata": {},
   "source": [
    "### Iterating/looping over elements of string"
   ]
  },
  {
   "cell_type": "code",
   "execution_count": 16,
   "id": "4fc3d5dd",
   "metadata": {},
   "outputs": [
    {
     "name": "stdout",
     "output_type": "stream",
     "text": [
      "M\n",
      "y\n",
      " \n",
      "n\n",
      "a\n",
      "m\n",
      "e\n",
      " \n",
      "i\n",
      "s\n",
      " \n",
      "L\n",
      "a\n",
      "n\n",
      "a\n",
      "!\n"
     ]
    }
   ],
   "source": [
    "# looping -> for loop\n",
    "\n",
    "# method 1\n",
    "for element in string:\n",
    "    print(element)"
   ]
  },
  {
   "cell_type": "code",
   "execution_count": 17,
   "id": "7d3bab86",
   "metadata": {},
   "outputs": [
    {
     "data": {
      "text/plain": [
       "[0, 1, 2, 3, 4]"
      ]
     },
     "execution_count": 17,
     "metadata": {},
     "output_type": "execute_result"
    }
   ],
   "source": [
    "# method 2, using len() and range() and accessing elements\n",
    "# range(n) - Create a sequence of numbers up to number n, not included, starting with 0\n",
    "list(range(5))"
   ]
  },
  {
   "cell_type": "code",
   "execution_count": null,
   "id": "94676928",
   "metadata": {},
   "outputs": [],
   "source": [
    "list(range(len(string)))"
   ]
  },
  {
   "cell_type": "code",
   "execution_count": null,
   "id": "f84d4d39",
   "metadata": {},
   "outputs": [],
   "source": [
    "for position in range(len(string)):\n",
    "    print(string[position])"
   ]
  }
 ],
 "metadata": {
  "kernelspec": {
   "display_name": "Python 3 (ipykernel)",
   "language": "python",
   "name": "python3"
  },
  "language_info": {
   "codemirror_mode": {
    "name": "ipython",
    "version": 3
   },
   "file_extension": ".py",
   "mimetype": "text/x-python",
   "name": "python",
   "nbconvert_exporter": "python",
   "pygments_lexer": "ipython3",
   "version": "3.9.7"
  }
 },
 "nbformat": 4,
 "nbformat_minor": 5
}
