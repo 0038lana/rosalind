{
 "cells": [
  {
   "attachments": {},
   "cell_type": "markdown",
   "id": "b1fa1ed6",
   "metadata": {},
   "source": [
    "# Finding a Motif in DNA\n",
    "**Motif**:\n",
    "- #### interval of nucleotides (in nucleic acids) or of amino acids (in proteins) that has biological importance\n",
    "- #### common task in molecular biology: search an organism's genome for a known motif\n",
    "- #### represented by a substring of a genetic string that we wish to locate\n",
    "\n",
    "- #### of possible interests are **repeats** - an interval of DNA in the genome that occurs often, possibly with minor changes\n",
    "- #### these repeats occur far more often than would be dictated by random chance, indicating that genomes are anything but random\n",
    "- #### most common repeat in humans: Alu repeat, 300 bp long and recurs around a million times throughout every human genome\n",
    "- #### parasitic purpose: when a new Alu repeat is inserted into a genome, it frequently causes genetic disorders"
   ]
  },
  {
   "cell_type": "markdown",
   "id": "9ef0d7b1",
   "metadata": {},
   "source": [
    "# Rosalind Problem\n",
    "Given: Two DNA strings s and t.\n",
    "\n",
    "Return: All positions in a string s, where t is a substring of s.\n",
    "\n",
    "\n",
    "Example:\n",
    "\n",
    "Input:\n",
    "\n",
    "GATATATGCATATACTT\n",
    "\n",
    "ATAT\n",
    "\n",
    "Output:\n",
    "\n",
    "2 4 10"
   ]
  },
  {
   "cell_type": "code",
   "execution_count": 1,
   "id": "9261df60",
   "metadata": {},
   "outputs": [],
   "source": [
    "# Define s and t\n",
    "s = \"GATATATGCATATACTT\" \n",
    "t = \"ATAT\""
   ]
  },
  {
   "cell_type": "code",
   "execution_count": 3,
   "id": "258386ab",
   "metadata": {},
   "outputs": [
    {
     "data": {
      "text/plain": [
       "2"
      ]
     },
     "execution_count": 3,
     "metadata": {},
     "output_type": "execute_result"
    }
   ],
   "source": [
    "# method 1, using find() function? -> problem: only returns first position\n",
    "s.find(t)+1"
   ]
  },
  {
   "cell_type": "code",
   "execution_count": null,
   "id": "22c62e19",
   "metadata": {},
   "outputs": [],
   "source": [
    "# method 2, looping & slicing"
   ]
  },
  {
   "cell_type": "markdown",
   "id": "e410abe0",
   "metadata": {},
   "source": [
    "<pre>\n",
    "GATATATGCATATACTT\n",
    " ATATATGCATATACTT\n",
    "  TATATGCATATACTT\n",
    "   ATATGCATATACTT\n",
    "    TATGCATATACTT\n",
    "     ATGCATATACTT\n",
    "      TGCATATACTT\n",
    "       GCATATACTT\n",
    "        CATATACTT\n",
    "         ATATACTT\n",
    "          TATACTT\n",
    "           ATACTT\n",
    "            TACTT\n",
    "             ACTT\n",
    "              CTT\n",
    "               TT\n",
    "                T\n",
    "</pre>"
   ]
  },
  {
   "cell_type": "code",
   "execution_count": null,
   "id": "013bfabb",
   "metadata": {},
   "outputs": [],
   "source": [
    "for position in range(len(s)):\n",
    "    if s[position:].startswith(t):\n",
    "        print(position+1) # remember: python uses 0-based indexing, so we need to add 1 to position\n",
    "        # (we want to return positions starting from 1)"
   ]
  },
  {
   "cell_type": "code",
   "execution_count": null,
   "id": "6e83a918",
   "metadata": {},
   "outputs": [],
   "source": []
  }
 ],
 "metadata": {
  "kernelspec": {
   "display_name": "Python 3 (ipykernel)",
   "language": "python",
   "name": "python3"
  },
  "language_info": {
   "codemirror_mode": {
    "name": "ipython",
    "version": 3
   },
   "file_extension": ".py",
   "mimetype": "text/x-python",
   "name": "python",
   "nbconvert_exporter": "python",
   "pygments_lexer": "ipython3",
   "version": "3.9.7"
  }
 },
 "nbformat": 4,
 "nbformat_minor": 5
}
