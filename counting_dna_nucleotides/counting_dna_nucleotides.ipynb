{
 "cells": [
  {
   "cell_type": "markdown",
   "id": "ad298614",
   "metadata": {},
   "source": [
    "# Counting DNA Nucelotides"
   ]
  },
  {
   "cell_type": "code",
   "execution_count": 1,
   "id": "d922961f",
   "metadata": {},
   "outputs": [],
   "source": [
    "dna = \"AGCTTTTCATTCTGACTGCAACGGGCAATATGTCTCTGTGTGGATTAAAAAAAGAGTGTCTGATAGCAGC\""
   ]
  },
  {
   "cell_type": "markdown",
   "id": "840301c4",
   "metadata": {},
   "source": [
    "## 1. Looping through DNA"
   ]
  },
  {
   "cell_type": "code",
   "execution_count": 2,
   "id": "ef493842",
   "metadata": {},
   "outputs": [],
   "source": [
    "counts = {'A': 0, 'T': 0, 'C': 0, 'G': 0}\n",
    "\n",
    "for nucleotide in dna:\n",
    "    counts[nucleotide] = counts[nucleotide] + 1"
   ]
  },
  {
   "cell_type": "code",
   "execution_count": 3,
   "id": "0609cd0e",
   "metadata": {},
   "outputs": [
    {
     "data": {
      "text/plain": [
       "{'A': 20, 'T': 21, 'C': 12, 'G': 17}"
      ]
     },
     "execution_count": 3,
     "metadata": {},
     "output_type": "execute_result"
    }
   ],
   "source": [
    "counts"
   ]
  },
  {
   "cell_type": "markdown",
   "id": "a917f0b1",
   "metadata": {},
   "source": [
    "## 2. Using count method from Python Strings"
   ]
  },
  {
   "cell_type": "code",
   "execution_count": 4,
   "id": "d5d9345d",
   "metadata": {},
   "outputs": [
    {
     "data": {
      "text/plain": [
       "20"
      ]
     },
     "execution_count": 4,
     "metadata": {},
     "output_type": "execute_result"
    }
   ],
   "source": [
    "dna.count('A')"
   ]
  },
  {
   "cell_type": "code",
   "execution_count": 5,
   "id": "6b91baa1",
   "metadata": {},
   "outputs": [
    {
     "data": {
      "text/plain": [
       "21"
      ]
     },
     "execution_count": 5,
     "metadata": {},
     "output_type": "execute_result"
    }
   ],
   "source": [
    "dna.count('T')"
   ]
  },
  {
   "cell_type": "code",
   "execution_count": 6,
   "id": "70ec7797",
   "metadata": {},
   "outputs": [
    {
     "data": {
      "text/plain": [
       "12"
      ]
     },
     "execution_count": 6,
     "metadata": {},
     "output_type": "execute_result"
    }
   ],
   "source": [
    "dna.count('C')"
   ]
  },
  {
   "cell_type": "code",
   "execution_count": 7,
   "id": "753298f9",
   "metadata": {},
   "outputs": [
    {
     "data": {
      "text/plain": [
       "17"
      ]
     },
     "execution_count": 7,
     "metadata": {},
     "output_type": "execute_result"
    }
   ],
   "source": [
    "dna.count('G')"
   ]
  },
  {
   "cell_type": "markdown",
   "id": "f3cbf66d",
   "metadata": {},
   "source": [
    "## 3. Excercise: try using Counter from Python collections to count DNA nucleotides\n",
    "\n",
    "https://docs.python.org/3/library/collections.html#collections.Counter"
   ]
  }
 ],
 "metadata": {
  "kernelspec": {
   "display_name": "Python 3 (ipykernel)",
   "language": "python",
   "name": "python3"
  },
  "language_info": {
   "codemirror_mode": {
    "name": "ipython",
    "version": 3
   },
   "file_extension": ".py",
   "mimetype": "text/x-python",
   "name": "python",
   "nbconvert_exporter": "python",
   "pygments_lexer": "ipython3",
   "version": "3.9.5"
  }
 },
 "nbformat": 4,
 "nbformat_minor": 5
}
